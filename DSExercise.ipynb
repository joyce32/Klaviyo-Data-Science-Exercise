{
  "nbformat": 4,
  "nbformat_minor": 0,
  "metadata": {
    "kernelspec": {
      "display_name": "Python 3",
      "language": "python",
      "name": "python3"
    },
    "language_info": {
      "codemirror_mode": {
        "name": "ipython",
        "version": 3
      },
      "file_extension": ".py",
      "mimetype": "text/x-python",
      "name": "python",
      "nbconvert_exporter": "python",
      "pygments_lexer": "ipython3",
      "version": "3.6.9"
    },
    "colab": {
      "name": "DataScientistExercise.ipynb",
      "provenance": []
    }
  },
  "cells": [
    {
      "cell_type": "markdown",
      "metadata": {
        "id": "7aafTqi5yhHF"
      },
      "source": [
        "### Interpreting the Orders Dataset\n",
        "\n",
        "For questions 1, 2, and 3, I will work with sales data from a marketplace with several stores. The attached CSV, `orders_v202102.csv`, lists the customer, date, and dollar value of orders placed in 2017. The gender of each customer is also provided. Not excluding $0 orders"
      ]
    },
    {
      "cell_type": "code",
      "metadata": {
        "id": "uSkVLZ720UM3"
      },
      "source": [
        "import pandas as pd\n",
        "import matplotlib.pyplot as plt\n",
        "from scipy import stats"
      ],
      "execution_count": null,
      "outputs": []
    },
    {
      "cell_type": "markdown",
      "metadata": {
        "id": "GTrp0Ni-yhHG"
      },
      "source": [
        "### Exercise 1\n",
        "\n",
        "Assemble a dataframe with one row per customer and the following columns:\n",
        "* customer_id \n",
        "* gender\n",
        "* most_recent_order_date \n",
        "* order_count (number of orders placed by this customer)\n",
        "\n",
        "Sort the dataframe by customer_id ascending and display the first 10 rows."
      ]
    },
    {
      "cell_type": "markdown",
      "metadata": {
        "id": "Dif-GUQu1bTo"
      },
      "source": [
        "First, I read the orders CSV file into a dataframe, and make sure that the date variable is read in as a datetime object. Then, to get an understanding of the contents of the data, I display the first few observations and the types of each variable. "
      ]
    },
    {
      "cell_type": "code",
      "metadata": {
        "colab": {
          "base_uri": "https://localhost:8080/",
          "height": 204
        },
        "id": "NQNljbSyyhHH",
        "outputId": "6b333bf2-b2b5-40cc-e7d5-257969ae510b"
      },
      "source": [
        "# import CSV\n",
        "orders = pd.read_csv('/orders_v202102.csv', parse_dates=['date'])\n",
        "orders.head()"
      ],
      "execution_count": null,
      "outputs": [
        {
          "output_type": "execute_result",
          "data": {
            "text/html": [
              "<div>\n",
              "<style scoped>\n",
              "    .dataframe tbody tr th:only-of-type {\n",
              "        vertical-align: middle;\n",
              "    }\n",
              "\n",
              "    .dataframe tbody tr th {\n",
              "        vertical-align: top;\n",
              "    }\n",
              "\n",
              "    .dataframe thead th {\n",
              "        text-align: right;\n",
              "    }\n",
              "</style>\n",
              "<table border=\"1\" class=\"dataframe\">\n",
              "  <thead>\n",
              "    <tr style=\"text-align: right;\">\n",
              "      <th></th>\n",
              "      <th>customer_id</th>\n",
              "      <th>gender</th>\n",
              "      <th>date</th>\n",
              "      <th>value</th>\n",
              "    </tr>\n",
              "  </thead>\n",
              "  <tbody>\n",
              "    <tr>\n",
              "      <th>0</th>\n",
              "      <td>1000</td>\n",
              "      <td>0</td>\n",
              "      <td>2017-01-01 00:11:31</td>\n",
              "      <td>198.5</td>\n",
              "    </tr>\n",
              "    <tr>\n",
              "      <th>1</th>\n",
              "      <td>1001</td>\n",
              "      <td>0</td>\n",
              "      <td>2017-01-01 00:29:56</td>\n",
              "      <td>338.0</td>\n",
              "    </tr>\n",
              "    <tr>\n",
              "      <th>2</th>\n",
              "      <td>1002</td>\n",
              "      <td>1</td>\n",
              "      <td>2017-01-01 01:30:31</td>\n",
              "      <td>733.0</td>\n",
              "    </tr>\n",
              "    <tr>\n",
              "      <th>3</th>\n",
              "      <td>1003</td>\n",
              "      <td>1</td>\n",
              "      <td>2017-01-01 01:34:22</td>\n",
              "      <td>772.0</td>\n",
              "    </tr>\n",
              "    <tr>\n",
              "      <th>4</th>\n",
              "      <td>1004</td>\n",
              "      <td>0</td>\n",
              "      <td>2017-01-01 03:11:54</td>\n",
              "      <td>508.0</td>\n",
              "    </tr>\n",
              "  </tbody>\n",
              "</table>\n",
              "</div>"
            ],
            "text/plain": [
              "   customer_id  gender                date  value\n",
              "0         1000       0 2017-01-01 00:11:31  198.5\n",
              "1         1001       0 2017-01-01 00:29:56  338.0\n",
              "2         1002       1 2017-01-01 01:30:31  733.0\n",
              "3         1003       1 2017-01-01 01:34:22  772.0\n",
              "4         1004       0 2017-01-01 03:11:54  508.0"
            ]
          },
          "metadata": {
            "tags": []
          },
          "execution_count": 141
        }
      ]
    },
    {
      "cell_type": "code",
      "metadata": {
        "colab": {
          "base_uri": "https://localhost:8080/"
        },
        "id": "8MCj2d6x3PYj",
        "outputId": "a435c0f6-cc5b-494c-a89b-4fa84af63d26"
      },
      "source": [
        "orders.dtypes"
      ],
      "execution_count": null,
      "outputs": [
        {
          "output_type": "execute_result",
          "data": {
            "text/plain": [
              "customer_id             int64\n",
              "gender                  int64\n",
              "date           datetime64[ns]\n",
              "value                 float64\n",
              "dtype: object"
            ]
          },
          "metadata": {
            "tags": []
          },
          "execution_count": 142
        }
      ]
    },
    {
      "cell_type": "markdown",
      "metadata": {
        "id": "zmhQ1cVp4kz8"
      },
      "source": [
        "Next, I want to create a new dataframe with customer_id, gender, most_recent_order_date, and order_count. The last two columns will be calculated through aggregations: getting the max date and count for each customer_id. Since groupby preserves the order within each group, the resulting dataframe is already sorted by customer_id ascending. "
      ]
    },
    {
      "cell_type": "code",
      "metadata": {
        "colab": {
          "base_uri": "https://localhost:8080/",
          "height": 359
        },
        "id": "Tpo4dVWk6RqV",
        "outputId": "8014180d-1a59-420f-b964-96d25f1934be"
      },
      "source": [
        "orders_new = orders.groupby(['customer_id', 'gender']).agg(most_recent_order=('date', 'max'), order_count=('customer_id', 'count')).reset_index()\n",
        "orders_new.head(10)"
      ],
      "execution_count": null,
      "outputs": [
        {
          "output_type": "execute_result",
          "data": {
            "text/html": [
              "<div>\n",
              "<style scoped>\n",
              "    .dataframe tbody tr th:only-of-type {\n",
              "        vertical-align: middle;\n",
              "    }\n",
              "\n",
              "    .dataframe tbody tr th {\n",
              "        vertical-align: top;\n",
              "    }\n",
              "\n",
              "    .dataframe thead th {\n",
              "        text-align: right;\n",
              "    }\n",
              "</style>\n",
              "<table border=\"1\" class=\"dataframe\">\n",
              "  <thead>\n",
              "    <tr style=\"text-align: right;\">\n",
              "      <th></th>\n",
              "      <th>customer_id</th>\n",
              "      <th>gender</th>\n",
              "      <th>most_recent_order</th>\n",
              "      <th>order_count</th>\n",
              "    </tr>\n",
              "  </thead>\n",
              "  <tbody>\n",
              "    <tr>\n",
              "      <th>0</th>\n",
              "      <td>1000</td>\n",
              "      <td>0</td>\n",
              "      <td>2017-01-01 00:11:31</td>\n",
              "      <td>1</td>\n",
              "    </tr>\n",
              "    <tr>\n",
              "      <th>1</th>\n",
              "      <td>1001</td>\n",
              "      <td>0</td>\n",
              "      <td>2017-01-01 00:29:56</td>\n",
              "      <td>1</td>\n",
              "    </tr>\n",
              "    <tr>\n",
              "      <th>2</th>\n",
              "      <td>1002</td>\n",
              "      <td>1</td>\n",
              "      <td>2017-02-19 21:35:31</td>\n",
              "      <td>3</td>\n",
              "    </tr>\n",
              "    <tr>\n",
              "      <th>3</th>\n",
              "      <td>1003</td>\n",
              "      <td>1</td>\n",
              "      <td>2017-04-26 02:37:20</td>\n",
              "      <td>4</td>\n",
              "    </tr>\n",
              "    <tr>\n",
              "      <th>4</th>\n",
              "      <td>1004</td>\n",
              "      <td>0</td>\n",
              "      <td>2017-01-01 03:11:54</td>\n",
              "      <td>1</td>\n",
              "    </tr>\n",
              "    <tr>\n",
              "      <th>5</th>\n",
              "      <td>1005</td>\n",
              "      <td>1</td>\n",
              "      <td>2017-12-16 01:39:27</td>\n",
              "      <td>2</td>\n",
              "    </tr>\n",
              "    <tr>\n",
              "      <th>6</th>\n",
              "      <td>1006</td>\n",
              "      <td>1</td>\n",
              "      <td>2017-05-09 15:27:20</td>\n",
              "      <td>3</td>\n",
              "    </tr>\n",
              "    <tr>\n",
              "      <th>7</th>\n",
              "      <td>1007</td>\n",
              "      <td>0</td>\n",
              "      <td>2017-01-01 15:59:50</td>\n",
              "      <td>1</td>\n",
              "    </tr>\n",
              "    <tr>\n",
              "      <th>8</th>\n",
              "      <td>1008</td>\n",
              "      <td>0</td>\n",
              "      <td>2017-12-17 05:47:48</td>\n",
              "      <td>3</td>\n",
              "    </tr>\n",
              "    <tr>\n",
              "      <th>9</th>\n",
              "      <td>1009</td>\n",
              "      <td>1</td>\n",
              "      <td>2017-01-01 19:27:17</td>\n",
              "      <td>1</td>\n",
              "    </tr>\n",
              "  </tbody>\n",
              "</table>\n",
              "</div>"
            ],
            "text/plain": [
              "   customer_id  gender   most_recent_order  order_count\n",
              "0         1000       0 2017-01-01 00:11:31            1\n",
              "1         1001       0 2017-01-01 00:29:56            1\n",
              "2         1002       1 2017-02-19 21:35:31            3\n",
              "3         1003       1 2017-04-26 02:37:20            4\n",
              "4         1004       0 2017-01-01 03:11:54            1\n",
              "5         1005       1 2017-12-16 01:39:27            2\n",
              "6         1006       1 2017-05-09 15:27:20            3\n",
              "7         1007       0 2017-01-01 15:59:50            1\n",
              "8         1008       0 2017-12-17 05:47:48            3\n",
              "9         1009       1 2017-01-01 19:27:17            1"
            ]
          },
          "metadata": {
            "tags": []
          },
          "execution_count": 143
        }
      ]
    },
    {
      "cell_type": "markdown",
      "metadata": {
        "id": "zVKlMS23yhHI"
      },
      "source": [
        "### Exercise 2\n",
        "Plot the count of orders per week (for all stores together). Do not use plotly, as plotly graphs in Jupyter Notebooks don't render correctly on different machines."
      ]
    },
    {
      "cell_type": "markdown",
      "metadata": {
        "id": "fG2iZnMZA8_C"
      },
      "source": [
        "First, I want to see the range of dates in the orders data. This will give me an idea of how I want to plot per week. "
      ]
    },
    {
      "cell_type": "code",
      "metadata": {
        "colab": {
          "base_uri": "https://localhost:8080/"
        },
        "id": "t0a-9cJAyhHI",
        "outputId": "740d15c3-d1af-4f2f-8d05-125a6a9a14ef"
      },
      "source": [
        "print('Earliest date: ', min(orders['date']))\n",
        "print('Latest date: ', max(orders['date']))"
      ],
      "execution_count": null,
      "outputs": [
        {
          "output_type": "stream",
          "text": [
            "Earliest date:  2017-01-01 00:11:31\n",
            "Latest date:  2017-12-31 23:35:09\n"
          ],
          "name": "stdout"
        }
      ]
    },
    {
      "cell_type": "markdown",
      "metadata": {
        "id": "xPbxkVq6BLDI"
      },
      "source": [
        "Since the order dates range from the first day of 2017 to the last day of 2017, I want to plot each week of 2017 as Week 00 to Week 52. "
      ]
    },
    {
      "cell_type": "code",
      "metadata": {
        "colab": {
          "base_uri": "https://localhost:8080/",
          "height": 204
        },
        "id": "_jZxnTsMMwuN",
        "outputId": "f656f2cf-8ab7-4d23-f822-0eb59dc4591b"
      },
      "source": [
        "orders['week_number'] = orders['date'].dt.strftime('Week %W')\n",
        "orders.head()"
      ],
      "execution_count": null,
      "outputs": [
        {
          "output_type": "execute_result",
          "data": {
            "text/html": [
              "<div>\n",
              "<style scoped>\n",
              "    .dataframe tbody tr th:only-of-type {\n",
              "        vertical-align: middle;\n",
              "    }\n",
              "\n",
              "    .dataframe tbody tr th {\n",
              "        vertical-align: top;\n",
              "    }\n",
              "\n",
              "    .dataframe thead th {\n",
              "        text-align: right;\n",
              "    }\n",
              "</style>\n",
              "<table border=\"1\" class=\"dataframe\">\n",
              "  <thead>\n",
              "    <tr style=\"text-align: right;\">\n",
              "      <th></th>\n",
              "      <th>customer_id</th>\n",
              "      <th>gender</th>\n",
              "      <th>date</th>\n",
              "      <th>value</th>\n",
              "      <th>week_number</th>\n",
              "    </tr>\n",
              "  </thead>\n",
              "  <tbody>\n",
              "    <tr>\n",
              "      <th>0</th>\n",
              "      <td>1000</td>\n",
              "      <td>0</td>\n",
              "      <td>2017-01-01 00:11:31</td>\n",
              "      <td>198.5</td>\n",
              "      <td>Week 00</td>\n",
              "    </tr>\n",
              "    <tr>\n",
              "      <th>1</th>\n",
              "      <td>1001</td>\n",
              "      <td>0</td>\n",
              "      <td>2017-01-01 00:29:56</td>\n",
              "      <td>338.0</td>\n",
              "      <td>Week 00</td>\n",
              "    </tr>\n",
              "    <tr>\n",
              "      <th>2</th>\n",
              "      <td>1002</td>\n",
              "      <td>1</td>\n",
              "      <td>2017-01-01 01:30:31</td>\n",
              "      <td>733.0</td>\n",
              "      <td>Week 00</td>\n",
              "    </tr>\n",
              "    <tr>\n",
              "      <th>3</th>\n",
              "      <td>1003</td>\n",
              "      <td>1</td>\n",
              "      <td>2017-01-01 01:34:22</td>\n",
              "      <td>772.0</td>\n",
              "      <td>Week 00</td>\n",
              "    </tr>\n",
              "    <tr>\n",
              "      <th>4</th>\n",
              "      <td>1004</td>\n",
              "      <td>0</td>\n",
              "      <td>2017-01-01 03:11:54</td>\n",
              "      <td>508.0</td>\n",
              "      <td>Week 00</td>\n",
              "    </tr>\n",
              "  </tbody>\n",
              "</table>\n",
              "</div>"
            ],
            "text/plain": [
              "   customer_id  gender                date  value week_number\n",
              "0         1000       0 2017-01-01 00:11:31  198.5     Week 00\n",
              "1         1001       0 2017-01-01 00:29:56  338.0     Week 00\n",
              "2         1002       1 2017-01-01 01:30:31  733.0     Week 00\n",
              "3         1003       1 2017-01-01 01:34:22  772.0     Week 00\n",
              "4         1004       0 2017-01-01 03:11:54  508.0     Week 00"
            ]
          },
          "metadata": {
            "tags": []
          },
          "execution_count": 145
        }
      ]
    },
    {
      "cell_type": "markdown",
      "metadata": {
        "id": "1_jV_TFBCkWn"
      },
      "source": [
        "Next, I group by the week number and aggregate the total order counts per week."
      ]
    },
    {
      "cell_type": "code",
      "metadata": {
        "colab": {
          "base_uri": "https://localhost:8080/",
          "height": 204
        },
        "id": "G_BvziouDLWx",
        "outputId": "f70616e2-b021-47ab-9cde-c7f2b83a6d77"
      },
      "source": [
        "orders_per_week = orders.groupby(['week_number']).agg(total_order_count = ('customer_id', 'count')).reset_index()\n",
        "orders_per_week.head()"
      ],
      "execution_count": null,
      "outputs": [
        {
          "output_type": "execute_result",
          "data": {
            "text/html": [
              "<div>\n",
              "<style scoped>\n",
              "    .dataframe tbody tr th:only-of-type {\n",
              "        vertical-align: middle;\n",
              "    }\n",
              "\n",
              "    .dataframe tbody tr th {\n",
              "        vertical-align: top;\n",
              "    }\n",
              "\n",
              "    .dataframe thead th {\n",
              "        text-align: right;\n",
              "    }\n",
              "</style>\n",
              "<table border=\"1\" class=\"dataframe\">\n",
              "  <thead>\n",
              "    <tr style=\"text-align: right;\">\n",
              "      <th></th>\n",
              "      <th>week_number</th>\n",
              "      <th>total_order_count</th>\n",
              "    </tr>\n",
              "  </thead>\n",
              "  <tbody>\n",
              "    <tr>\n",
              "      <th>0</th>\n",
              "      <td>Week 00</td>\n",
              "      <td>14</td>\n",
              "    </tr>\n",
              "    <tr>\n",
              "      <th>1</th>\n",
              "      <td>Week 01</td>\n",
              "      <td>180</td>\n",
              "    </tr>\n",
              "    <tr>\n",
              "      <th>2</th>\n",
              "      <td>Week 02</td>\n",
              "      <td>264</td>\n",
              "    </tr>\n",
              "    <tr>\n",
              "      <th>3</th>\n",
              "      <td>Week 03</td>\n",
              "      <td>405</td>\n",
              "    </tr>\n",
              "    <tr>\n",
              "      <th>4</th>\n",
              "      <td>Week 04</td>\n",
              "      <td>233</td>\n",
              "    </tr>\n",
              "  </tbody>\n",
              "</table>\n",
              "</div>"
            ],
            "text/plain": [
              "  week_number  total_order_count\n",
              "0     Week 00                 14\n",
              "1     Week 01                180\n",
              "2     Week 02                264\n",
              "3     Week 03                405\n",
              "4     Week 04                233"
            ]
          },
          "metadata": {
            "tags": []
          },
          "execution_count": 146
        }
      ]
    },
    {
      "cell_type": "code",
      "metadata": {
        "colab": {
          "base_uri": "https://localhost:8080/",
          "height": 464
        },
        "id": "Xoyfy91LD73o",
        "outputId": "e7ce80c8-8718-4d2f-92e8-f085a9aeb7ca"
      },
      "source": [
        "# plot order count by week \n",
        "ax = orders_per_week.plot.bar(x='week_number', y='total_order_count', figsize=(25,10), legend=None)\n",
        "ax.set_xlabel('week of year')\n",
        "ax.set_ylabel('order count')\n",
        "ax.set_title('Order counts per week in 2017')\n",
        "\n",
        "for b in ax.patches:\n",
        "\n",
        "    x_value = b.get_x() + b.get_width() / 2\n",
        "    y_value = b.get_height()\n",
        "    label = b.get_height()\n",
        "\n",
        "    plt.annotate(\n",
        "        label,                      \n",
        "        (x_value, y_value),         \n",
        "        xytext=(0,15),          \n",
        "        textcoords=\"offset points\", \n",
        "        va='center',\n",
        "        ha='center') \n",
        "\n",
        "plt.show()"
      ],
      "execution_count": null,
      "outputs": [
        {
          "output_type": "display_data",
          "data": {
            "image/png": "[encoded data removed]",
            "text/plain": [
              "<Figure size 1800x720 with 1 Axes>"
            ]
          },
          "metadata": {
            "tags": [],
            "needs_background": "light"
          }
        }
      ]
    },
    {
      "cell_type": "markdown",
      "metadata": {
        "id": "CiaLhXBJNwsd"
      },
      "source": [
        "Week 21 seems to have the largest number of order counts at 627 orders, while Week 00 has the fewest order count at 14 orders. "
      ]
    },
    {
      "cell_type": "markdown",
      "metadata": {
        "id": "1dBgWVZRyhHJ"
      },
      "source": [
        "### Exercise 3\n",
        "\n",
        "Compute the mean order value for gender 0 and for gender 1. Do you think the difference is significant? \n",
        "\n",
        "**Justify your choice of method and state any assumptions you make. Make sure you are clear about why your method is suitable for this dataset, in particular.**."
      ]
    },
    {
      "cell_type": "markdown",
      "metadata": {
        "id": "lMELeW-VaEdW"
      },
      "source": [
        "Starting with a simple aggregation below, I see that gender 0 has a higher average order value than gender 1. However, in order to determine if this difference is statistically significant, I must do further analysis. "
      ]
    },
    {
      "cell_type": "code",
      "metadata": {
        "colab": {
          "base_uri": "https://localhost:8080/",
          "height": 142
        },
        "id": "v7140L0ByhHJ",
        "outputId": "c64492b5-6650-4011-ba44-89ae8b88927f"
      },
      "source": [
        "orders.groupby(['gender']).agg(mean_order_value = ('value', 'mean'))"
      ],
      "execution_count": null,
      "outputs": [
        {
          "output_type": "execute_result",
          "data": {
            "text/html": [
              "<div>\n",
              "<style scoped>\n",
              "    .dataframe tbody tr th:only-of-type {\n",
              "        vertical-align: middle;\n",
              "    }\n",
              "\n",
              "    .dataframe tbody tr th {\n",
              "        vertical-align: top;\n",
              "    }\n",
              "\n",
              "    .dataframe thead th {\n",
              "        text-align: right;\n",
              "    }\n",
              "</style>\n",
              "<table border=\"1\" class=\"dataframe\">\n",
              "  <thead>\n",
              "    <tr style=\"text-align: right;\">\n",
              "      <th></th>\n",
              "      <th>mean_order_value</th>\n",
              "    </tr>\n",
              "    <tr>\n",
              "      <th>gender</th>\n",
              "      <th></th>\n",
              "    </tr>\n",
              "  </thead>\n",
              "  <tbody>\n",
              "    <tr>\n",
              "      <th>0</th>\n",
              "      <td>363.890006</td>\n",
              "    </tr>\n",
              "    <tr>\n",
              "      <th>1</th>\n",
              "      <td>350.708361</td>\n",
              "    </tr>\n",
              "  </tbody>\n",
              "</table>\n",
              "</div>"
            ],
            "text/plain": [
              "        mean_order_value\n",
              "gender                  \n",
              "0             363.890006\n",
              "1             350.708361"
            ]
          },
          "metadata": {
            "tags": []
          },
          "execution_count": 148
        }
      ]
    },
    {
      "cell_type": "markdown",
      "metadata": {
        "id": "Saoc1XxzaijY"
      },
      "source": [
        "Since I am comparing the means for two groups (gender 0 and gender 1), the best method to use is an independent two sample t-test. We consider the following hypotheses:\n",
        "\n",
        "\n",
        "\n",
        "> Null hypothesis: The mean order value for gender 0 and gender 1 is the same. \n",
        "\n",
        "\n",
        "> Alternative hypothesis: The mean order value for gender 0 and gender 1 is different, thus statistically significant.\n",
        "\n",
        "\n",
        "\n"
      ]
    },
    {
      "cell_type": "markdown",
      "metadata": {
        "id": "iYAobmvggJgV"
      },
      "source": [
        "It is important to check the assumptions of a t-test. First, I want to see the sample size and distribution of the data. "
      ]
    },
    {
      "cell_type": "code",
      "metadata": {
        "colab": {
          "base_uri": "https://localhost:8080/"
        },
        "id": "6QujbCh6XG-t",
        "outputId": "f2d18eee-c0b4-45d1-80ed-f51f0d5b8d3a"
      },
      "source": [
        "orders['gender'].value_counts()"
      ],
      "execution_count": null,
      "outputs": [
        {
          "output_type": "execute_result",
          "data": {
            "text/plain": [
              "0    6759\n",
              "1    6712\n",
              "Name: gender, dtype: int64"
            ]
          },
          "metadata": {
            "tags": []
          },
          "execution_count": 149
        }
      ]
    },
    {
      "cell_type": "markdown",
      "metadata": {
        "id": "TxYvu55ygXGz"
      },
      "source": [
        "There are more customers with gender 0 than there are customers with gender 1, but the difference is not very large compared to the large size of the data. Next, I will check for a normal distribution. "
      ]
    },
    {
      "cell_type": "code",
      "metadata": {
        "colab": {
          "base_uri": "https://localhost:8080/",
          "height": 282
        },
        "id": "KCWOJTGqeWkC",
        "outputId": "fa73f980-5c97-47d9-e15f-61d91271167e"
      },
      "source": [
        "orders[orders['gender'] == 0]['value'].hist()"
      ],
      "execution_count": null,
      "outputs": [
        {
          "output_type": "execute_result",
          "data": {
            "text/plain": [
              "<matplotlib.axes._subplots.AxesSubplot at 0x7ff6713edfd0>"
            ]
          },
          "metadata": {
            "tags": []
          },
          "execution_count": 150
        },
        {
          "output_type": "display_data",
          "data": {
            "image/png": "[encoded data removed]",
            "text/plain": [
              "<Figure size 432x288 with 1 Axes>"
            ]
          },
          "metadata": {
            "tags": [],
            "needs_background": "light"
          }
        }
      ]
    },
    {
      "cell_type": "code",
      "metadata": {
        "colab": {
          "base_uri": "https://localhost:8080/",
          "height": 282
        },
        "id": "2OTtaxJ-fYOe",
        "outputId": "3f7b5946-4798-4085-854a-74b405bb38cb"
      },
      "source": [
        "orders[orders['gender'] == 1]['value'].hist()"
      ],
      "execution_count": null,
      "outputs": [
        {
          "output_type": "execute_result",
          "data": {
            "text/plain": [
              "<matplotlib.axes._subplots.AxesSubplot at 0x7ff6614467b8>"
            ]
          },
          "metadata": {
            "tags": []
          },
          "execution_count": 151
        },
        {
          "output_type": "display_data",
          "data": {
            "image/png": "[encoded data removed]",
            "text/plain": [
              "<Figure size 432x288 with 1 Axes>"
            ]
          },
          "metadata": {
            "tags": [],
            "needs_background": "light"
          }
        }
      ]
    },
    {
      "cell_type": "markdown",
      "metadata": {
        "id": "8pd2X4cCgyYs"
      },
      "source": [
        "Both gender 0 and gender 1 have skewed distributions, but since the sample size is quite large, I will not be too concerned about a normality violation. I will proceed with a t-test. I also want to check for equal variances with a Levene test of Equal Variances, which tests the null hypothesis that samples have equal variances against the threshold of 0.05. "
      ]
    },
    {
      "cell_type": "code",
      "metadata": {
        "colab": {
          "base_uri": "https://localhost:8080/"
        },
        "id": "wmKBJVf6jopO",
        "outputId": "9e8fa393-f953-47ec-91cb-07e3b103b3ac"
      },
      "source": [
        "stats.levene(orders[orders['gender'] == 0]['value'], orders[orders['gender'] == 1]['value'])"
      ],
      "execution_count": null,
      "outputs": [
        {
          "output_type": "execute_result",
          "data": {
            "text/plain": [
              "LeveneResult(statistic=5.523015358033226, pvalue=0.018782230716425024)"
            ]
          },
          "metadata": {
            "tags": []
          },
          "execution_count": 152
        }
      ]
    },
    {
      "cell_type": "markdown",
      "metadata": {
        "id": "jb0zsTt-k0x_"
      },
      "source": [
        "Since the p-value < 0.05, I reject the null and move forward with unequal variances. "
      ]
    },
    {
      "cell_type": "code",
      "metadata": {
        "colab": {
          "base_uri": "https://localhost:8080/"
        },
        "id": "fux0sD4dlIsL",
        "outputId": "9fcacdc3-3661-43f5-ccf9-f89e6ac85ebc"
      },
      "source": [
        "stats.ttest_ind(orders[orders['gender'] == 0]['value'], orders[orders['gender'] == 1]['value'], equal_var = False)"
      ],
      "execution_count": null,
      "outputs": [
        {
          "output_type": "execute_result",
          "data": {
            "text/plain": [
              "Ttest_indResult(statistic=1.976107933576866, pvalue=0.04816296295128402)"
            ]
          },
          "metadata": {
            "tags": []
          },
          "execution_count": 153
        }
      ]
    },
    {
      "cell_type": "markdown",
      "metadata": {
        "id": "X6E-P3uQlWfO"
      },
      "source": [
        "From the results of the t-test, I see that the p-value = 0.048, which is less than the 0.05 threshold. Therefore, the difference in mean order value between gender 0 and 1 seems to be statistically significant. In other words, there appears to be evidence to conclude the average order value for gender 0 and gender 1 is not the same. "
      ]
    },
    {
      "cell_type": "markdown",
      "metadata": {
        "id": "gd4M72tAyhHJ"
      },
      "source": [
        "### Interpreting the Product Dataset\n",
        "For this question I will work with the data in the CSV `products_v202102.csv`. This dataset shows the number of times a particular item was sold. It contains the following columns: \n",
        "* number_of_orders - the number of orders containing the product\n",
        "* store_id - the ID of the store selling the product\n",
        "* product_id - the ID of the product itself\n",
        "* is_red - whether the product is red."
      ]
    },
    {
      "cell_type": "markdown",
      "metadata": {
        "id": "OfhU0cCXyhHK"
      },
      "source": [
        "### Exercise 4\n",
        "\n",
        "Suppose some of our customers came to us with the belief that the color red generates more sales than other colors.  Based on this dataset, would you suggest that companies color more of their products red? Why or why not, and what other factors could be important to determine this? \n",
        "\n",
        "**Please justify your answer and state any assumptions you make.**"
      ]
    },
    {
      "cell_type": "markdown",
      "metadata": {
        "id": "D-07ry0NqQEJ"
      },
      "source": [
        "First, I will import the dataset and display the first few observations. "
      ]
    },
    {
      "cell_type": "code",
      "metadata": {
        "colab": {
          "base_uri": "https://localhost:8080/",
          "height": 204
        },
        "id": "Mpd-VMNbyhHL",
        "outputId": "bc010b6c-70b1-4c6d-ca71-58b884afed98"
      },
      "source": [
        "products = pd.read_csv('/products_v202102.csv')\n",
        "products.head()"
      ],
      "execution_count": null,
      "outputs": [
        {
          "output_type": "execute_result",
          "data": {
            "text/html": [
              "<div>\n",
              "<style scoped>\n",
              "    .dataframe tbody tr th:only-of-type {\n",
              "        vertical-align: middle;\n",
              "    }\n",
              "\n",
              "    .dataframe tbody tr th {\n",
              "        vertical-align: top;\n",
              "    }\n",
              "\n",
              "    .dataframe thead th {\n",
              "        text-align: right;\n",
              "    }\n",
              "</style>\n",
              "<table border=\"1\" class=\"dataframe\">\n",
              "  <thead>\n",
              "    <tr style=\"text-align: right;\">\n",
              "      <th></th>\n",
              "      <th>store_id</th>\n",
              "      <th>product_id</th>\n",
              "      <th>is_red</th>\n",
              "      <th>number_of_orders</th>\n",
              "    </tr>\n",
              "  </thead>\n",
              "  <tbody>\n",
              "    <tr>\n",
              "      <th>0</th>\n",
              "      <td>0</td>\n",
              "      <td>0</td>\n",
              "      <td>True</td>\n",
              "      <td>15</td>\n",
              "    </tr>\n",
              "    <tr>\n",
              "      <th>1</th>\n",
              "      <td>0</td>\n",
              "      <td>100</td>\n",
              "      <td>True</td>\n",
              "      <td>37</td>\n",
              "    </tr>\n",
              "    <tr>\n",
              "      <th>2</th>\n",
              "      <td>0</td>\n",
              "      <td>200</td>\n",
              "      <td>True</td>\n",
              "      <td>36</td>\n",
              "    </tr>\n",
              "    <tr>\n",
              "      <th>3</th>\n",
              "      <td>0</td>\n",
              "      <td>300</td>\n",
              "      <td>False</td>\n",
              "      <td>11</td>\n",
              "    </tr>\n",
              "    <tr>\n",
              "      <th>4</th>\n",
              "      <td>0</td>\n",
              "      <td>400</td>\n",
              "      <td>False</td>\n",
              "      <td>10</td>\n",
              "    </tr>\n",
              "  </tbody>\n",
              "</table>\n",
              "</div>"
            ],
            "text/plain": [
              "   store_id  product_id  is_red  number_of_orders\n",
              "0         0           0    True                15\n",
              "1         0         100    True                37\n",
              "2         0         200    True                36\n",
              "3         0         300   False                11\n",
              "4         0         400   False                10"
            ]
          },
          "metadata": {
            "tags": []
          },
          "execution_count": 154
        }
      ]
    },
    {
      "cell_type": "markdown",
      "metadata": {
        "id": "7qYOzecC2Nsc"
      },
      "source": [
        "Since the is_red column is expressed as True/False, I convert to binary. "
      ]
    },
    {
      "cell_type": "code",
      "metadata": {
        "colab": {
          "base_uri": "https://localhost:8080/",
          "height": 204
        },
        "id": "J9xcmZUWtlwX",
        "outputId": "076231ae-56bf-4562-d747-25c88ca883bb"
      },
      "source": [
        "products['is_red'] = (products['is_red'] == True).astype(int)\n",
        "products.head()"
      ],
      "execution_count": null,
      "outputs": [
        {
          "output_type": "execute_result",
          "data": {
            "text/html": [
              "<div>\n",
              "<style scoped>\n",
              "    .dataframe tbody tr th:only-of-type {\n",
              "        vertical-align: middle;\n",
              "    }\n",
              "\n",
              "    .dataframe tbody tr th {\n",
              "        vertical-align: top;\n",
              "    }\n",
              "\n",
              "    .dataframe thead th {\n",
              "        text-align: right;\n",
              "    }\n",
              "</style>\n",
              "<table border=\"1\" class=\"dataframe\">\n",
              "  <thead>\n",
              "    <tr style=\"text-align: right;\">\n",
              "      <th></th>\n",
              "      <th>store_id</th>\n",
              "      <th>product_id</th>\n",
              "      <th>is_red</th>\n",
              "      <th>number_of_orders</th>\n",
              "    </tr>\n",
              "  </thead>\n",
              "  <tbody>\n",
              "    <tr>\n",
              "      <th>0</th>\n",
              "      <td>0</td>\n",
              "      <td>0</td>\n",
              "      <td>1</td>\n",
              "      <td>15</td>\n",
              "    </tr>\n",
              "    <tr>\n",
              "      <th>1</th>\n",
              "      <td>0</td>\n",
              "      <td>100</td>\n",
              "      <td>1</td>\n",
              "      <td>37</td>\n",
              "    </tr>\n",
              "    <tr>\n",
              "      <th>2</th>\n",
              "      <td>0</td>\n",
              "      <td>200</td>\n",
              "      <td>1</td>\n",
              "      <td>36</td>\n",
              "    </tr>\n",
              "    <tr>\n",
              "      <th>3</th>\n",
              "      <td>0</td>\n",
              "      <td>300</td>\n",
              "      <td>0</td>\n",
              "      <td>11</td>\n",
              "    </tr>\n",
              "    <tr>\n",
              "      <th>4</th>\n",
              "      <td>0</td>\n",
              "      <td>400</td>\n",
              "      <td>0</td>\n",
              "      <td>10</td>\n",
              "    </tr>\n",
              "  </tbody>\n",
              "</table>\n",
              "</div>"
            ],
            "text/plain": [
              "   store_id  product_id  is_red  number_of_orders\n",
              "0         0           0       1                15\n",
              "1         0         100       1                37\n",
              "2         0         200       1                36\n",
              "3         0         300       0                11\n",
              "4         0         400       0                10"
            ]
          },
          "metadata": {
            "tags": []
          },
          "execution_count": 155
        }
      ]
    },
    {
      "cell_type": "markdown",
      "metadata": {
        "id": "JY-yPhXPxAvM"
      },
      "source": [
        "I want to do some initial exploring to see the distributions of red vs non-red products. As seen below, there are more red products than non-red. The average number of red products sold is higher than that of non-red products. "
      ]
    },
    {
      "cell_type": "code",
      "metadata": {
        "colab": {
          "base_uri": "https://localhost:8080/"
        },
        "id": "435V4WS3vqgJ",
        "outputId": "efb25cf6-dc75-4fb8-ab43-dc08ec80ff5a"
      },
      "source": [
        "products['is_red'].value_counts()"
      ],
      "execution_count": null,
      "outputs": [
        {
          "output_type": "execute_result",
          "data": {
            "text/plain": [
              "1    1544\n",
              "0    1456\n",
              "Name: is_red, dtype: int64"
            ]
          },
          "metadata": {
            "tags": []
          },
          "execution_count": 156
        }
      ]
    },
    {
      "cell_type": "code",
      "metadata": {
        "colab": {
          "base_uri": "https://localhost:8080/"
        },
        "id": "_SA96U_4v6CH",
        "outputId": "6a81507e-dfd5-4258-acf0-8bf9311d7e6d"
      },
      "source": [
        "print('Average number of red products sold: ', int(products[products['is_red'] == 1]['number_of_orders'].mean()))\n",
        "print('Average number of non-red products sold: ', int(products[products['is_red'] == 0]['number_of_orders'].mean()))"
      ],
      "execution_count": null,
      "outputs": [
        {
          "output_type": "stream",
          "text": [
            "Average number of red products sold:  26\n",
            "Average number of non-red products sold:  23\n"
          ],
          "name": "stdout"
        }
      ]
    },
    {
      "cell_type": "markdown",
      "metadata": {
        "id": "rrvqSGyS2VTU"
      },
      "source": [
        "To see if a product being red has an effect on sales, I want to perform a one-way ANOVA test. I want to check for normality and equal variances. "
      ]
    },
    {
      "cell_type": "code",
      "metadata": {
        "colab": {
          "base_uri": "https://localhost:8080/",
          "height": 282
        },
        "id": "d4r1dbVQuQFH",
        "outputId": "7a8a63e6-36b6-4ed1-b71d-c502fb3272f7"
      },
      "source": [
        "products[products['is_red'] == 0]['number_of_orders'].hist()"
      ],
      "execution_count": null,
      "outputs": [
        {
          "output_type": "execute_result",
          "data": {
            "text/plain": [
              "<matplotlib.axes._subplots.AxesSubplot at 0x7ff6614ab390>"
            ]
          },
          "metadata": {
            "tags": []
          },
          "execution_count": 158
        },
        {
          "output_type": "display_data",
          "data": {
            "image/png": "[encoded data removed]",
            "text/plain": [
              "<Figure size 432x288 with 1 Axes>"
            ]
          },
          "metadata": {
            "tags": [],
            "needs_background": "light"
          }
        }
      ]
    },
    {
      "cell_type": "code",
      "metadata": {
        "colab": {
          "base_uri": "https://localhost:8080/",
          "height": 283
        },
        "id": "x_GpzfCi1g3n",
        "outputId": "64cce9c7-c3b8-4366-d469-8c89d841c446"
      },
      "source": [
        "products[products['is_red'] == 1]['number_of_orders'].hist()"
      ],
      "execution_count": null,
      "outputs": [
        {
          "output_type": "execute_result",
          "data": {
            "text/plain": [
              "<matplotlib.axes._subplots.AxesSubplot at 0x7ff671082d30>"
            ]
          },
          "metadata": {
            "tags": []
          },
          "execution_count": 159
        },
        {
          "output_type": "display_data",
          "data": {
            "image/png": "[encoded data removed]",
            "text/plain": [
              "<Figure size 432x288 with 1 Axes>"
            ]
          },
          "metadata": {
            "tags": [],
            "needs_background": "light"
          }
        }
      ]
    },
    {
      "cell_type": "markdown",
      "metadata": {
        "id": "uu60i04o2t1S"
      },
      "source": [
        "Both is_red = 0 and is_red = 1 has pretty normal distributions, so I use the Levene Test of Equal variances again to see how I should proceed. "
      ]
    },
    {
      "cell_type": "code",
      "metadata": {
        "colab": {
          "base_uri": "https://localhost:8080/"
        },
        "id": "dtgsyxXR2FRZ",
        "outputId": "76923906-6773-416c-be69-997ab5d7746c"
      },
      "source": [
        "stats.levene(products[products['is_red'] == 0]['number_of_orders'], products[products['is_red'] == 1]['number_of_orders'])"
      ],
      "execution_count": null,
      "outputs": [
        {
          "output_type": "execute_result",
          "data": {
            "text/plain": [
              "LeveneResult(statistic=11.70247228817246, pvalue=0.000632521642954754)"
            ]
          },
          "metadata": {
            "tags": []
          },
          "execution_count": 160
        }
      ]
    },
    {
      "cell_type": "markdown",
      "metadata": {
        "id": "6qfIWULx3Bb3"
      },
      "source": [
        "Since I have a pvale < 0.05, I know there are unequal variances, but since ANOVA can be robust to unequal variances, I will still proceed. "
      ]
    },
    {
      "cell_type": "code",
      "metadata": {
        "colab": {
          "base_uri": "https://localhost:8080/"
        },
        "id": "dFGcuQByz_cC",
        "outputId": "f7fcda7a-c750-41ea-9517-83a685504ecd"
      },
      "source": [
        "stats.f_oneway(products[products['is_red'] == 0]['number_of_orders'], products[products['is_red'] == 1]['number_of_orders'])"
      ],
      "execution_count": null,
      "outputs": [
        {
          "output_type": "execute_result",
          "data": {
            "text/plain": [
              "F_onewayResult(statistic=63.981255782212685, pvalue=1.777247322763986e-15)"
            ]
          },
          "metadata": {
            "tags": []
          },
          "execution_count": 161
        }
      ]
    },
    {
      "cell_type": "markdown",
      "metadata": {
        "id": "6UzWp5-Y31FY"
      },
      "source": [
        "The result of the ANOVA is a very small pvalue < 0.05, so I reject the null hypothesis and conclude that red products do have some significant effect on sales. I would suggest that companies color more of their products red. It is also important to determine other factors of red products that might affect sales, other than the color. There may be more frequently sold product types that are red that should be identified to increase sales.  "
      ]
    },
    {
      "cell_type": "markdown",
      "metadata": {
        "id": "bBm_JsHoyhHL"
      },
      "source": [
        "### Exercise 5\n",
        "\n",
        "Describe one of your favorite tools or techniques and give a small example of how it has helped you solve a problem. Limit your answer to one short paragraph, and please be specific. "
      ]
    },
    {
      "cell_type": "markdown",
      "metadata": {
        "id": "g5j1UBVR6c0H"
      },
      "source": [
        "My favorite tool for solving data analysis problems is Juptyer notebooks. I recently completed a healthcare predictive analysis project in which I wanted to analyze demographics data and predict if a person had healthcare insurance or not. I used Jupyter notebooks to apply data science techniques like exploratory data analysis and modeling with Python. This is a great tool to use in the data science field because it gives the user the ability to test and see the output of code in snippets, which allows for a smooth process. For this project, I was able to practice machine learning concepts in Jupyter notebooks and create a shareable report with visualizations of my findings. "
      ]
    }
  ]
}
